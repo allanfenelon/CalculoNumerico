{
  "cells": [
    {
      "cell_type": "markdown",
      "metadata": {
        "id": "W7GVOd5qyDjt"
      },
      "source": [
        "# Atividade prática 3\n",
        "### O problema do salva-vidas"
      ]
    },
    {
      "cell_type": "markdown",
      "metadata": {
        "id": "G1aJPJXDyDjy"
      },
      "source": [
        "<br>"
      ]
    },
    {
      "cell_type": "markdown",
      "metadata": {
        "id": "v_4PO_dFyDj0"
      },
      "source": [
        "Recentemente, um acidente ocorrido na praia do Socorro colocou em evidência um problema até então ignorado.\n",
        "Um frequentador escapou com vida de uma situação de afogamento, após ter sido socorrido por um [salva-vidas](https://pt.wikipedia.org/wiki/Salva-vidas).\n",
        "Segundo relatos, o salvamento somente foi possível graças à grande experiência do salva-vidas que soube escolher a trajetória mais curta para alcançar a vítima em tempo hábil.\n",
        "Em entrevista logo após o acidente, ele revelou que a escolha da trajetória de salvamento depende de como está a correnteza naquele dia e do ponto de entrada no mar, pois isto pode aumentar ou diminuir o tempo gasto durante seu deslocamento pela praia e durante o trecho realizado a nado.\n",
        "O que poucos sabem, é que esta escolha poderia ter sido feita usando um simples aplicativo.\n",
        "Neste sentido, a tarefa de vocês será apresentar aqui um protótipo deste aplicativo."
      ]
    },
    {
      "cell_type": "markdown",
      "metadata": {
        "id": "ToCn3E5zyDj1"
      },
      "source": [
        "## Simplificação do problema"
      ]
    },
    {
      "cell_type": "markdown",
      "metadata": {
        "id": "WszpEBcxyDj2"
      },
      "source": [
        "Por se tratar de um protótipo, formularemos o problema com algumas simplificações.\n",
        "Suponha que a margem do oceano é fixa, definida pela reta $y = 0$.\n",
        "Suponha ainda que uma vítima está pedindo socorro em um ponto $V(0, -40)$, enquanto que o salva-vidas está posicionado em $S(80, 30)$, como ilustrado abaixo."
      ]
    },
    {
      "cell_type": "code",
      "execution_count": null,
      "metadata": {
        "id": "ygP8yLGxyDj3",
        "outputId": "a0d6558d-3c77-4507-b456-1ab8418a4503",
        "colab": {
          "base_uri": "https://localhost:8080/",
          "height": 265
        }
      },
      "outputs": [
        {
          "output_type": "display_data",
          "data": {
            "text/plain": [
              "<IPython.core.display.SVG object>"
            ],
            "image/svg+xml": "<svg height=\"183.1pt\" viewBox=\"0 0 300 183.102\" width=\"400\" xmlns=\"http://www.w3.org/2000/svg\"><defs><marker id=\"a\" orient=\"auto\" overflow=\"visible\"><path d=\"M5.231 2.42L-1.324.01 5.23-2.401C4.184-.978 4.19.969 5.231 2.42z\" fill-rule=\"evenodd\" stroke=\"#000\" stroke-linejoin=\"round\" stroke-width=\".375\"/></marker><marker id=\"b\" orient=\"auto\" overflow=\"visible\"><path d=\"M5.231 2.42L-1.324.01 5.23-2.401C4.184-.978 4.19.969 5.231 2.42z\" fill-rule=\"evenodd\" stroke=\"#000\" stroke-linejoin=\"round\" stroke-width=\".375\"/></marker></defs><path d=\"M226.905 22.757c0-2.143 1.667-3.571 3.571-3.571 2.143 0 3.572 1.666 3.572 3.571 0 1.905-1.667 3.571-3.572 3.571-1.904 0-3.571-1.666-3.571-3.571zM66.9 162.76c0-1.905 1.667-3.571 3.571-3.571 2.143 0 3.572 1.666 3.572 3.571 0 1.905-1.667 3.571-3.572 3.571-1.904 0-3.571-1.666-3.571-3.571z\"/><text font-family=\"sans-serif\" font-size=\"15.873\" letter-spacing=\"0\" stroke-width=\".427\" style=\"line-height:1.25;font-variant-ligatures:normal;font-variant-caps:normal;font-variant-numeric:normal;font-feature-settings:normal\" word-spacing=\"0\" x=\"185.207\" y=\"12.06\"><tspan style=\"font-variant-ligatures:normal;font-variant-caps:normal;font-variant-numeric:normal;font-feature-settings:normal\" x=\"185.207\" y=\"12.06\">salva-vidas</tspan></text><text font-family=\"sans-serif\" font-size=\"15.873\" letter-spacing=\"0\" stroke-width=\".427\" style=\"line-height:1.25;font-variant-ligatures:normal;font-variant-caps:normal;font-variant-numeric:normal;font-feature-settings:normal\" word-spacing=\"0\" x=\"69.266\" y=\"30.125\"><tspan style=\"font-variant-ligatures:normal;font-variant-caps:normal;font-variant-numeric:normal;font-feature-settings:normal\" x=\"69.266\" y=\"30.125\">praia</tspan></text><text font-family=\"sans-serif\" font-size=\"15.873\" letter-spacing=\"0\" stroke-width=\".427\" style=\"line-height:1.25;font-variant-ligatures:normal;font-variant-caps:normal;font-variant-numeric:normal;font-feature-settings:normal\" word-spacing=\"0\" x=\"171.919\" y=\"148.545\"><tspan style=\"font-variant-ligatures:normal;font-variant-caps:normal;font-variant-numeric:normal;font-feature-settings:normal\" x=\"171.919\" y=\"148.545\">oceano</tspan></text><text font-family=\"sans-serif\" font-size=\"15.873\" letter-spacing=\"0\" stroke-width=\".427\" style=\"line-height:1.25;font-variant-ligatures:normal;font-variant-caps:normal;font-variant-numeric:normal;font-feature-settings:normal\" word-spacing=\"0\" x=\"36.409\" y=\"182.877\"><tspan style=\"font-variant-ligatures:normal;font-variant-caps:normal;font-variant-numeric:normal;font-feature-settings:normal\" x=\"36.409\" y=\"182.877\">nadador</tspan></text><text font-family=\"sans-serif\" font-size=\"15.873\" letter-spacing=\"0\" stroke-width=\".427\" style=\"line-height:1.25;font-variant-ligatures:normal;font-variant-caps:normal;font-variant-numeric:normal;font-feature-settings:normal\" word-spacing=\"0\" x=\"239.325\" y=\"58.983\"><tspan style=\"font-variant-ligatures:normal;font-variant-caps:normal;font-variant-numeric:normal;font-feature-settings:normal\" x=\"239.325\" y=\"58.983\">30 m</tspan></text><text font-family=\"sans-serif\" font-size=\"15.873\" letter-spacing=\"0\" stroke-width=\".427\" style=\"line-height:1.25;font-variant-ligatures:normal;font-variant-caps:normal;font-variant-numeric:normal;font-feature-settings:normal\" word-spacing=\"0\" x=\"130.411\" y=\"101.574\"><tspan style=\"font-variant-ligatures:normal;font-variant-caps:normal;font-variant-numeric:normal;font-feature-settings:normal\" x=\"130.411\" y=\"101.574\">80 m</tspan></text><text font-family=\"sans-serif\" font-size=\"15.873\" letter-spacing=\"0\" stroke-width=\".427\" style=\"line-height:1.25;font-variant-ligatures:normal;font-variant-caps:normal;font-variant-numeric:normal;font-feature-settings:normal\" word-spacing=\"0\" x=\"19.919\" y=\"128.631\"><tspan style=\"font-variant-ligatures:normal;font-variant-caps:normal;font-variant-numeric:normal;font-feature-settings:normal\" x=\"19.919\" y=\"128.631\">40 m</tspan></text><path d=\"M300 83.233H0\" fill=\"none\" stroke=\"#000\" stroke-width=\"1.488\"/><text font-family=\"sans-serif\" font-size=\"15.873\" letter-spacing=\"0\" stroke-width=\".427\" style=\"line-height:1.25;font-variant-ligatures:normal;font-variant-caps:normal;font-variant-numeric:normal;font-feature-settings:normal\" word-spacing=\"0\" x=\"116.535\" y=\"73.181\"><tspan style=\"font-variant-ligatures:normal;font-variant-caps:normal;font-variant-numeric:normal;font-feature-settings:normal\" x=\"116.535\" y=\"73.181\">margem</tspan></text><path d=\"M230.472 22.229v60.515M70.57 162.53V82.919\" fill=\"none\" stroke=\"#000\" stroke-dasharray=\"5.95238059,5.95238059\" stroke-width=\"1.488\"/><path d=\"M227.485 96.408h-48.38\" fill=\"none\" marker-start=\"url(#a)\" stroke=\"#000\" stroke-width=\"1.444\"/><path d=\"M74.15 96.408h48.38\" fill=\"none\" marker-start=\"url(#b)\" stroke=\"#000\" stroke-width=\"1.444\"/></svg>"
          },
          "metadata": {}
        }
      ],
      "source": [
        "%%svg\n",
        "<svg xmlns=\"http://www.w3.org/2000/svg\" viewBox=\"0 0 300 183.102\" height=\"183.1pt\" width=\"400\"><defs><marker orient=\"auto\" overflow=\"visible\" id=\"a\"><path stroke-width=\".375\" stroke-linejoin=\"round\" stroke=\"#000\" fill-rule=\"evenodd\" d=\"M5.231 2.42L-1.324.01 5.23-2.401C4.184-.978 4.19.969 5.231 2.42z\"/></marker><marker orient=\"auto\" overflow=\"visible\" id=\"b\"><path stroke-width=\".375\" stroke-linejoin=\"round\" stroke=\"#000\" fill-rule=\"evenodd\" d=\"M5.231 2.42L-1.324.01 5.23-2.401C4.184-.978 4.19.969 5.231 2.42z\"/></marker></defs><path d=\"M226.905 22.757c0-2.143 1.667-3.571 3.571-3.571 2.143 0 3.572 1.666 3.572 3.571 0 1.905-1.667 3.571-3.572 3.571-1.904 0-3.571-1.666-3.571-3.571zM66.9 162.76c0-1.905 1.667-3.571 3.571-3.571 2.143 0 3.572 1.666 3.572 3.571 0 1.905-1.667 3.571-3.572 3.571-1.904 0-3.571-1.666-3.571-3.571z\"/><text style=\"line-height:1.25;font-variant-ligatures:normal;font-variant-caps:normal;font-variant-numeric:normal;font-feature-settings:normal\" word-spacing=\"0\" letter-spacing=\"0\" font-size=\"15.873\" y=\"12.06\" x=\"185.207\" font-family=\"sans-serif\" stroke-width=\".427\"><tspan style=\"font-variant-ligatures:normal;font-variant-caps:normal;font-variant-numeric:normal;font-feature-settings:normal\" y=\"12.06\" x=\"185.207\">salva-vidas</tspan></text><text style=\"line-height:1.25;font-variant-ligatures:normal;font-variant-caps:normal;font-variant-numeric:normal;font-feature-settings:normal\" word-spacing=\"0\" letter-spacing=\"0\" font-size=\"15.873\" y=\"30.125\" x=\"69.266\" font-family=\"sans-serif\" stroke-width=\".427\"><tspan style=\"font-variant-ligatures:normal;font-variant-caps:normal;font-variant-numeric:normal;font-feature-settings:normal\" y=\"30.125\" x=\"69.266\">praia</tspan></text><text style=\"line-height:1.25;font-variant-ligatures:normal;font-variant-caps:normal;font-variant-numeric:normal;font-feature-settings:normal\" word-spacing=\"0\" letter-spacing=\"0\" font-size=\"15.873\" y=\"148.545\" x=\"171.919\" font-family=\"sans-serif\" stroke-width=\".427\"><tspan style=\"font-variant-ligatures:normal;font-variant-caps:normal;font-variant-numeric:normal;font-feature-settings:normal\" y=\"148.545\" x=\"171.919\">oceano</tspan></text><text style=\"line-height:1.25;font-variant-ligatures:normal;font-variant-caps:normal;font-variant-numeric:normal;font-feature-settings:normal\" word-spacing=\"0\" letter-spacing=\"0\" font-size=\"15.873\" y=\"182.877\" x=\"36.409\" font-family=\"sans-serif\" stroke-width=\".427\"><tspan style=\"font-variant-ligatures:normal;font-variant-caps:normal;font-variant-numeric:normal;font-feature-settings:normal\" y=\"182.877\" x=\"36.409\">nadador</tspan></text><text style=\"line-height:1.25;font-variant-ligatures:normal;font-variant-caps:normal;font-variant-numeric:normal;font-feature-settings:normal\" word-spacing=\"0\" letter-spacing=\"0\" font-size=\"15.873\" y=\"58.983\" x=\"239.325\" font-family=\"sans-serif\" stroke-width=\".427\"><tspan style=\"font-variant-ligatures:normal;font-variant-caps:normal;font-variant-numeric:normal;font-feature-settings:normal\" y=\"58.983\" x=\"239.325\">30 m</tspan></text><text style=\"line-height:1.25;font-variant-ligatures:normal;font-variant-caps:normal;font-variant-numeric:normal;font-feature-settings:normal\" word-spacing=\"0\" letter-spacing=\"0\" font-size=\"15.873\" y=\"101.574\" x=\"130.411\" font-family=\"sans-serif\" stroke-width=\".427\"><tspan style=\"font-variant-ligatures:normal;font-variant-caps:normal;font-variant-numeric:normal;font-feature-settings:normal\" y=\"101.574\" x=\"130.411\">80 m</tspan></text><text style=\"line-height:1.25;font-variant-ligatures:normal;font-variant-caps:normal;font-variant-numeric:normal;font-feature-settings:normal\" word-spacing=\"0\" letter-spacing=\"0\" font-size=\"15.873\" y=\"128.631\" x=\"19.919\" font-family=\"sans-serif\" stroke-width=\".427\"><tspan style=\"font-variant-ligatures:normal;font-variant-caps:normal;font-variant-numeric:normal;font-feature-settings:normal\" y=\"128.631\" x=\"19.919\">40 m</tspan></text><path d=\"M300 83.233H0\" fill=\"none\" stroke=\"#000\" stroke-width=\"1.488\"/><text style=\"line-height:1.25;font-variant-ligatures:normal;font-variant-caps:normal;font-variant-numeric:normal;font-feature-settings:normal\" word-spacing=\"0\" letter-spacing=\"0\" font-size=\"15.873\" y=\"73.181\" x=\"116.535\" font-family=\"sans-serif\" stroke-width=\".427\"><tspan style=\"font-variant-ligatures:normal;font-variant-caps:normal;font-variant-numeric:normal;font-feature-settings:normal\" y=\"73.181\" x=\"116.535\">margem</tspan></text><path d=\"M230.472 22.229v60.515M70.57 162.53V82.919\" fill=\"none\" stroke=\"#000\" stroke-width=\"1.488\" stroke-dasharray=\"5.95238059,5.95238059\"/><path d=\"M227.485 96.408h-48.38\" fill=\"none\" stroke=\"#000\" stroke-width=\"1.444\" marker-start=\"url(#a)\"/><path d=\"M74.15 96.408h48.38\" fill=\"none\" stroke=\"#000\" stroke-width=\"1.444\" marker-start=\"url(#b)\"/></svg>"
      ]
    },
    {
      "cell_type": "markdown",
      "metadata": {
        "id": "VBXos_N4yDj6"
      },
      "source": [
        "O salva-vidas é capaz de correr na praia a uma velocidade de $5$ m/s, enquanto que no mar sua velocidade de deslocamento a nado é de $1$ m/s."
      ]
    },
    {
      "cell_type": "markdown",
      "metadata": {
        "id": "FaDrO-vRyDj7"
      },
      "source": [
        "Neste contexto, vocês irão determinar qual é a trajetória ótima para que o salva-vidas alcance a vítima no menor tempo possível."
      ]
    },
    {
      "cell_type": "markdown",
      "metadata": {
        "id": "Px-AGyHGyDj7"
      },
      "source": [
        "## Análise de trajetórias"
      ]
    },
    {
      "cell_type": "markdown",
      "metadata": {
        "id": "fDCfJT1QyDj8"
      },
      "source": [
        "(a) _Vocês devem inicialmente construir um gráfico exibindo três trajetórias possíveis:_\n",
        "_(1) correr e nadar em linha reta até a vítima,_\n",
        "_(2) correr em direção ao mar, perpendicularmente à costa, e depois nadar em linha reta até a vítima;_\n",
        "_(3) correr em linha reta até o mar e depois correr perpendicularmente à costa, em direção à vítima._\n",
        "_Qual seria a trajetória mais rápida? Teça alguns comentários sobre o que observou._"
      ]
    },
    {
      "cell_type": "markdown",
      "metadata": {
        "id": "iz_EAE_FyDj9"
      },
      "source": [
        "Trajetória 1 = 69.852s\n",
        ", Trajetória 2 = 95.44s\n",
        ", Trajetória 3 = 57.0s, logo a trajetória (3) seria a ideal entre as 3 da questão."
      ]
    },
    {
      "cell_type": "code",
      "execution_count": 17,
      "metadata": {
        "id": "EgDagHbqyDj-",
        "colab": {
          "base_uri": "https://localhost:8080/",
          "height": 265
        },
        "outputId": "e1825375-683c-4fb8-c07e-615d003cd944"
      },
      "outputs": [
        {
          "output_type": "display_data",
          "data": {
            "text/plain": [
              "<Figure size 432x288 with 1 Axes>"
            ],
            "image/png": "[encoded data removed]"
          },
          "metadata": {
            "needs_background": "light"
          }
        }
      ],
      "source": [
        "# Digite o código para traçar o gráfico aqui\n",
        "import matplotlib.pyplot as plt\n",
        "x = [80, 0, 0]\n",
        "y = [30, 0, -40]\n",
        "a = [80, 80, 0]\n",
        "b = [30,0, -40]\n",
        "c = [80, 0]\n",
        "d = [30, -40]\n",
        "\n",
        "fig,ax = plt.subplots()\n",
        "ax.plot(c,d,'green', label='trajetória 1', lw=2 )\n",
        "ax.plot(x,y,'red', label='trajetória 2', lw=2 )\n",
        "ax.plot(a,b,'black', label='trajetória 3', lw=2 )\n",
        "\n",
        "plt.scatter(x,y)\n",
        "plt.scatter(a,b)\n",
        "ax.plot([0,90], [0,0], 'blue', label='Margem', lw=1) # Margem do mar\n",
        "ax.legend()\n",
        "plt.show()"
      ]
    },
    {
      "cell_type": "markdown",
      "metadata": {
        "id": "OBElsF2hyDj-"
      },
      "source": [
        "## Formulação matemática"
      ]
    },
    {
      "cell_type": "markdown",
      "metadata": {
        "id": "qZlbe4dcyDj-"
      },
      "source": [
        "(b) _Formule um problema de minimização de uma função tempo $T$ cuja solução é o ponto $P$ localizado na margem do oceano no qual o salva-vidas deveria entrar na água._\n",
        "_Ao final, trace o gráfico de $T$ e teça alguns comentários sobre o que observou._\n",
        "_Dica: escreva suas fórmulas usando LaTeX: https://app.mettzer.com/latex_"
      ]
    },
    {
      "cell_type": "markdown",
      "source": [
        "É preciso descobrir o P que está localizado na margem, este problema pode ser resolvido através de soluções aproximadas obtendo a raíz da equação, podendo ser utilizado o método a bisseção, ponto fixo ou o método de Newton.\n",
        "Vemos que se traçarmos um vetor do salva vidas para o nadador, ou seja, suponha que A seja o ponto a qual o nadador esteja e B o ponto a qual o salva vidas está então o vetor $\\overrightarrow{AB}$ intercepta o margem do oceano n ponto P a qual minimiza a função tempo.\n",
        "Seja a função tempo: $T = \\frac{\\sqrt{x^2-160x+7300}}{5}+\\sqrt{x^2+1600}$, aplicando algum método de ponto fixo podemos encontrar $P$ talque satifaça a minimazação da função tempo."
      ],
      "metadata": {
        "id": "RPoB_NJuHZ-A"
      }
    },
    {
      "cell_type": "markdown",
      "metadata": {
        "id": "flL9CBlgyDj_"
      },
      "source": [
        "*Digite sua formulação aqui*"
      ]
    },
    {
      "cell_type": "code",
      "source": [
        "def t(x):\n",
        "  return (((x**2)-160*x+7300)**(1/2)/5+((x**2)+1600)**(1/2))"
      ],
      "metadata": {
        "id": "q2plfEKZjUma"
      },
      "execution_count": 18,
      "outputs": []
    },
    {
      "cell_type": "code",
      "execution_count": 67,
      "metadata": {
        "id": "SahAQhV9yDj_",
        "colab": {
          "base_uri": "https://localhost:8080/",
          "height": 314
        },
        "outputId": "82a5ec34-2ad5-4453-c1bb-1307f540b4dd"
      },
      "outputs": [
        {
          "output_type": "display_data",
          "data": {
            "text/plain": [
              "<Figure size 432x288 with 1 Axes>"
            ],
            "image/png": "[encoded data removed]"
          },
          "metadata": {
            "needs_background": "light"
          }
        },
        {
          "output_type": "execute_result",
          "data": {
            "text/plain": [
              "<sympy.plotting.plot.Plot at 0x7f0dc7e70510>"
            ]
          },
          "metadata": {},
          "execution_count": 67
        }
      ],
      "source": [
        "import numpy as np\n",
        "from sympy import * \n",
        "from sympy.plotting import *\n",
        "\n",
        "x = Symbol('x')\n",
        "\n",
        "plot(t(x))\n",
        "\n",
        "\n"
      ]
    },
    {
      "cell_type": "markdown",
      "metadata": {
        "id": "4BObDh8jyDkA"
      },
      "source": [
        "(c) _Transforme o problema de minimização anterior em um problema de zero de função, ou seja, reduza o problema anterior a uma equação do tipo $f(x) = 0$._\n",
        "_Trace o gráfico de $f$ e para conseguir delimitar um intervalo que cotenha a solução do problema._"
      ]
    },
    {
      "cell_type": "markdown",
      "metadata": {
        "id": "VX2mNhAZyDkB"
      },
      "source": [
        "*Digite a formulação do problema de minimização aqui*"
      ]
    },
    {
      "cell_type": "code",
      "execution_count": 35,
      "metadata": {
        "id": "8cRLu_o0yDkB",
        "colab": {
          "base_uri": "https://localhost:8080/",
          "height": 314
        },
        "outputId": "bc7880c6-4f54-4447-c28d-e83c8739bad5"
      },
      "outputs": [
        {
          "output_type": "display_data",
          "data": {
            "text/plain": [
              "<Figure size 432x288 with 1 Axes>"
            ],
            "image/png": "[encoded data removed]"
          },
          "metadata": {
            "needs_background": "light"
          }
        },
        {
          "output_type": "execute_result",
          "data": {
            "text/plain": [
              "<sympy.plotting.plot.Plot at 0x7f0dcb0601d0>"
            ]
          },
          "metadata": {},
          "execution_count": 35
        }
      ],
      "source": [
        "plot((((x**2)-160*x+7300)**(1/2)/5+((x**2)+1600)**(1/2)))"
      ]
    },
    {
      "cell_type": "markdown",
      "source": [
        "Observando o código, podemos observar que $f(-5)>0$ e $f(-2)<0$, o que implica que neste intervalo contém uma raíz. Pois quando temos $f(-5).f(-2)<0$ é porque existe raíz $\\in (-5,-2)$. Portando, assumiremos o intervalo $(-5,-2)$"
      ],
      "metadata": {
        "id": "snN3qurlnfWV"
      }
    },
    {
      "cell_type": "markdown",
      "source": [
        "## Cálculo do ponto de entrada"
      ],
      "metadata": {
        "id": "7Nf-tx4Sz9w_"
      }
    },
    {
      "cell_type": "markdown",
      "source": [
        "(d) _Aplique o método da bisseção para obter uma solução para o problema em questão com tolerância de $10^{-8}$._"
      ],
      "metadata": {
        "id": "VHShTrnpzV1R"
      }
    },
    {
      "cell_type": "code",
      "source": [
        "def bissecao(f, a, b, TOL, N):  \n",
        "    i = 1  \n",
        "    fa = f(a)  \n",
        "    while (i <= N):  \n",
        "        #iteracao da bissecao  \n",
        "        p = a + (b-a)/2  \n",
        "        fp = f(p)  \n",
        "        #condicao de parada  \n",
        "        if ((fp == 0) or ((b-a)/2 < TOL)):  \n",
        "            return p  \n",
        "        #bissecta o intervalo  \n",
        "        i = i+1  \n",
        "        if (fa * fp > 0):  \n",
        "            a = p  \n",
        "            fa = fp  \n",
        "        else:  \n",
        "            b = p"
      ],
      "metadata": {
        "id": "T9uJq55189x_"
      },
      "execution_count": 53,
      "outputs": []
    },
    {
      "cell_type": "code",
      "source": [
        "def passos(a, b, TOL):\n",
        "  return np.ceil(np.log2((a+b)/(2*TOL)))"
      ],
      "metadata": {
        "id": "0Po4ReW6qzYw"
      },
      "execution_count": 60,
      "outputs": []
    },
    {
      "cell_type": "code",
      "source": [
        "n = passos(5,2, 1e-8)\n",
        "n"
      ],
      "metadata": {
        "colab": {
          "base_uri": "https://localhost:8080/"
        },
        "id": "4L6jszdJrBNV",
        "outputId": "0be6bc88-2a4b-43f6-92d1-9e9ea048ecb7"
      },
      "execution_count": 64,
      "outputs": [
        {
          "output_type": "execute_result",
          "data": {
            "text/plain": [
              "29.0"
            ]
          },
          "metadata": {},
          "execution_count": 64
        }
      ]
    },
    {
      "cell_type": "code",
      "source": [
        "bissecao(t, -5, -2, 1e-8, n)"
      ],
      "metadata": {
        "colab": {
          "base_uri": "https://localhost:8080/"
        },
        "id": "gn1x1xEZpaQj",
        "outputId": "7a39d85b-3248-453d-886b-209da4b19801"
      },
      "execution_count": 65,
      "outputs": [
        {
          "output_type": "execute_result",
          "data": {
            "text/plain": [
              "-2.0000000055879354"
            ]
          },
          "metadata": {},
          "execution_count": 65
        }
      ]
    },
    {
      "cell_type": "markdown",
      "source": [
        "(e) _Agora, aplique o método da Newton no mesmo problema usando uma tolerância de $10^{-8}$._"
      ],
      "metadata": {
        "id": "v31Gd5_s0Lml"
      }
    },
    {
      "cell_type": "code",
      "source": [
        "def dt(x):\n",
        "  return (((x+80)/5*((x**2)+160*x+7300)**(1/2))+(x/((x**2)+1600)**(1/2)))"
      ],
      "metadata": {
        "id": "-kIyQBsDt5fL"
      },
      "execution_count": 74,
      "outputs": []
    },
    {
      "cell_type": "code",
      "source": [
        "def newton(f,df,p0,tol,N):\n",
        "  i = 0\n",
        "  while i <= N:\n",
        "    p = p0 - f(p0)/df(p0)\n",
        "    err = tol*max(1.0, abs(p))\n",
        "    if abs(p - p0) < err:\n",
        "      break\n",
        "    i = i + 1\n",
        "    p0 = p\n",
        "    if i > N:\n",
        "      print(\"Número máximo de iterações atingido!\")\n",
        "      i = i - 1\n",
        "      return i,p\n"
      ],
      "metadata": {
        "id": "v_xUSE098-jV"
      },
      "execution_count": 76,
      "outputs": []
    },
    {
      "cell_type": "code",
      "source": [
        "newton(t, dt, -5, 1e-8, n)"
      ],
      "metadata": {
        "colab": {
          "base_uri": "https://localhost:8080/"
        },
        "id": "fTLiPvXsutCc",
        "outputId": "62eaee29-37a0-4c17-c55f-a4974db79b45"
      },
      "execution_count": 77,
      "outputs": [
        {
          "output_type": "stream",
          "name": "stdout",
          "text": [
            "Número máximo de iterações atingido!\n"
          ]
        },
        {
          "output_type": "execute_result",
          "data": {
            "text/plain": [
              "(29, -6.476284451103871)"
            ]
          },
          "metadata": {},
          "execution_count": 77
        }
      ]
    },
    {
      "cell_type": "markdown",
      "source": [
        "(f) _Qual dos dois métodos utilizados se saiu melhor na sua opnião?_"
      ],
      "metadata": {
        "id": "ZVpV7p8N1STF"
      }
    },
    {
      "cell_type": "markdown",
      "source": [
        "O método de Newton, pois com o método da bisseção com esta tolerância definida chegou longe do valor expresso no gráfico onde corta o eixo, já o método de Newton fornece uma aproximação bastante satisfatória."
      ],
      "metadata": {
        "id": "Tcp2OABgvKM-"
      }
    },
    {
      "cell_type": "markdown",
      "source": [
        "(g) _Afinal, quanto tempo gastará o salva-vidas para socorrer a vítima?_"
      ],
      "metadata": {
        "id": "J12F9Zmc0aqN"
      }
    },
    {
      "cell_type": "code",
      "source": [
        "t(-6.476284451103871)"
      ],
      "metadata": {
        "colab": {
          "base_uri": "https://localhost:8080/"
        },
        "id": "Tt69sKnYvenS",
        "outputId": "cd8a01b9-840c-4287-e367-93bbffe59f13"
      },
      "execution_count": 78,
      "outputs": [
        {
          "output_type": "execute_result",
          "data": {
            "text/plain": [
              "58.827331234723964"
            ]
          },
          "metadata": {},
          "execution_count": 78
        }
      ]
    },
    {
      "cell_type": "markdown",
      "source": [
        "Aproximadamente 58 segundos."
      ],
      "metadata": {
        "id": "h32hpkgE9Azu"
      }
    },
    {
      "cell_type": "markdown",
      "metadata": {
        "id": "5zc2G1rpyDkB"
      },
      "source": [
        "## Conclusões"
      ]
    },
    {
      "cell_type": "markdown",
      "metadata": {
        "id": "uTjVwVTXyDkB"
      },
      "source": [
        "(h) _Aqui, vocês deverão comentar os resultados obtidos._\n",
        "_No mínimo, vocês devem concluir se a trajetória obtida coincidiu com alguma das três trajetórias plotadas [inicialmente](#Análise-de-trajetórias)._\n",
        "_Comentem também sobre o que poderiam fazer para aumentar a realidade do modelo._"
      ]
    },
    {
      "cell_type": "markdown",
      "source": [
        "Com o método de Newton conseguimos uma aproximação satisfatória da margem a qual a função tempo é minimizada, mas a aproximação nesse caso com a tolerância dada nos deu resultados insastifatório comparado com o tempo de outras tragetórias, e que portando se a tolerância fosse diferente nossa aproximação seria mais acurada e próxima da realidade."
      ],
      "metadata": {
        "id": "S4cnJ54h9LcF"
      }
    },
    {
      "cell_type": "markdown",
      "metadata": {
        "id": "up-w0ftOyDkC"
      },
      "source": [
        "2022 Vicente Helano  \n",
        "UFCA | Centro de Ciências e Tecnologia"
      ]
    }
  ],
  "metadata": {
    "celltoolbar": "Slideshow",
    "kernelspec": {
      "display_name": "Python 3",
      "language": "python",
      "name": "python3"
    },
    "language_info": {
      "codemirror_mode": {
        "name": "ipython",
        "version": 3
      },
      "file_extension": ".py",
      "mimetype": "text/x-python",
      "name": "python",
      "nbconvert_exporter": "python",
      "pygments_lexer": "ipython3",
      "version": "3.7.3"
    },
    "colab": {
      "name": "Pratica3.ipynb",
      "provenance": [],
      "collapsed_sections": []
    }
  },
  "nbformat": 4,
  "nbformat_minor": 0
}