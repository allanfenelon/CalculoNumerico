{
  "cells": [
    {
      "cell_type": "markdown",
      "metadata": {
        "id": "CER2d7aVP15y"
      },
      "source": [
        "# Atividade prática 1\n",
        "### Números de Fibonacci"
      ]
    },
    {
      "cell_type": "markdown",
      "metadata": {
        "id": "NrviGAqdP152"
      },
      "source": [
        "A sequência de Fibonacci é uma velha conhecidade na matemática.\n",
        "Originalmente usada para modelar a dinâmica populacional de coelhos em 1202, ela hoje encontra aplicações nos mais diversos campos do conhecimento, como a computação, botânica, arquitetura, etc."
      ]
    },
    {
      "cell_type": "markdown",
      "metadata": {
        "id": "Bec4kyKFP153"
      },
      "source": [
        "Podemos definir a sequência de Fibonacci $\\left(F_n\\right)_{n=0}^\\infty$ usando recursividade. Com efeito, definimos $F_0 = 0$ e $F_1 = 1$, os quais chamamos de casos base. Agora, estabelecemos a seguinte relação recursiva:"
      ]
    },
    {
      "cell_type": "markdown",
      "metadata": {
        "id": "JqrQfj6lP154"
      },
      "source": [
        "$$F_{n} = F_{n-1} + F_{n-2}\\text{, para } n = 2, 3, 4, \\ldots$$"
      ]
    },
    {
      "cell_type": "markdown",
      "metadata": {
        "id": "h89_orsfP155"
      },
      "source": [
        "Uma implementação recursiva trivial dessa recorrência é a seguinte:\n"
      ]
    },
    {
      "cell_type": "code",
      "execution_count": 1,
      "metadata": {
        "id": "F0RNS04_P156"
      },
      "outputs": [],
      "source": [
        "def fibrec(n):\n",
        "    \"\"\"\n",
        "    Algoritmo recursivo para o cálculo dos números da sequência de Fibonacci.\n",
        "    \n",
        "    Entrada:\n",
        "         n (int): número inteiro não negativo.\n",
        "         \n",
        "    Saída:\n",
        "         (int): o valor de F_n\n",
        "    \"\"\"\n",
        "    # Asseguramos que o valor de n é não negativo\n",
        "    assert n >= 0\n",
        "    \n",
        "    if n == 0:\n",
        "        return 0\n",
        "    elif n == 1:\n",
        "        return 1\n",
        "    else:\n",
        "        return fibrec(n-1) + fibrec(n-2)"
      ]
    },
    {
      "cell_type": "markdown",
      "metadata": {
        "id": "lmdTNyMVP158"
      },
      "source": [
        "Experimente alterar o valor de $n$ abaixo e confira o resultado:"
      ]
    },
    {
      "cell_type": "code",
      "execution_count": 59,
      "metadata": {
        "colab": {
          "base_uri": "https://localhost:8080/"
        },
        "id": "AY2ib-PkP159",
        "outputId": "47cda164-54f6-4bb5-8941-6ad57ee47b01"
      },
      "outputs": [
        {
          "output_type": "stream",
          "name": "stdout",
          "text": [
            "CPU times: user 1.26 s, sys: 1.98 ms, total: 1.26 s\n",
            "Wall time: 1.27 s\n"
          ]
        },
        {
          "output_type": "execute_result",
          "data": {
            "text/plain": [
              "2178309"
            ]
          },
          "metadata": {},
          "execution_count": 59
        }
      ],
      "source": [
        "%%time\n",
        "fibrec(32)"
      ]
    },
    {
      "cell_type": "markdown",
      "metadata": {
        "id": "QNQJjQyvP15-"
      },
      "source": [
        "Infelizmente, o algoritmo recursivo está longe de ser o mais rápido para calcular o $n$-ésimo número de Fibonacci. Como já era de se esperar (não é?), tamanha a sua simplicidade.\n",
        "Anote o tempo total de CPU acima.\n",
        "Ele será necessário mais na frente."
      ]
    },
    {
      "cell_type": "markdown",
      "metadata": {
        "id": "xOrciqOfP15-"
      },
      "source": [
        "Agora, iremos conhecer um algoritmo matricial bastante elegante que nos permitirá usar os arranjos da NumPy para calcular os termos dessa sequência de modo mais eficiente.\n",
        "A ideia chave do algoritmo matricial está em expressar $F_n$ do seguinte modo:"
      ]
    },
    {
      "cell_type": "markdown",
      "metadata": {
        "id": "BRYxq_mLP15_"
      },
      "source": [
        "$$\n",
        "\\begin{bmatrix}F_{n}\\\\ F_{n-1}\\end{bmatrix} = \n",
        "\\begin{bmatrix}F_{n-1} + F_{n-2}\\\\ F_{n-1} \\end{bmatrix} =\n",
        "\\begin{bmatrix}1 & 1\\\\ 1 & 0\\end{bmatrix}\n",
        "\\begin{bmatrix}F_{n-1}\\\\ F_{n-2}\\end{bmatrix}\\text{.}\n",
        "$$"
      ]
    },
    {
      "cell_type": "markdown",
      "metadata": {
        "id": "Hwx0BC2jP16A"
      },
      "source": [
        "Definindo"
      ]
    },
    {
      "cell_type": "markdown",
      "metadata": {
        "id": "qkiRJzBmP16B"
      },
      "source": [
        "$$\n",
        "\\mathbf{M} = \\begin{bmatrix}1 & 1\\\\ 1 & 0\\end{bmatrix}\\text{,}\n",
        "$$"
      ]
    },
    {
      "cell_type": "markdown",
      "metadata": {
        "id": "WibUATe3P16B"
      },
      "source": [
        "teremos:"
      ]
    },
    {
      "cell_type": "markdown",
      "metadata": {
        "id": "WUDc4hcfP16C"
      },
      "source": [
        "\\begin{align}\n",
        "\\begin{bmatrix}F_{n}\\\\ F_{n-1}\\end{bmatrix} &= \\mathbf{M} \\begin{bmatrix}F_{n-1}\\\\ F_{n-2}\\end{bmatrix}\\text{,}\\\\\n",
        " &= \\mathbf{M}^2 \\begin{bmatrix}F_{n-2}\\\\ F_{n-3}\\end{bmatrix}\\text{,}\\\\\n",
        " &= \\mathbf{M}^3 \\begin{bmatrix}F_{n-3}\\\\ F_{n-4}\\end{bmatrix}\\text{,}\\\\\n",
        " &\\vdots \\\\\n",
        " &= \\mathbf{M}^{n-1} \\begin{bmatrix}F_{1}\\\\ F_{0}\\end{bmatrix} = \\mathbf{M}^{n-1} \\begin{bmatrix}1\\\\ 0\\end{bmatrix}\\text{.}\n",
        "\\end{align}"
      ]
    },
    {
      "cell_type": "markdown",
      "metadata": {
        "id": "O4YoD0n-P16C"
      },
      "source": [
        "Supondo que, ao final,"
      ]
    },
    {
      "cell_type": "markdown",
      "metadata": {
        "id": "OcPr0zRBP16C"
      },
      "source": [
        "$$\n",
        "\\textbf{M}^{n-1} =\n",
        "\\begin{bmatrix}\n",
        "m_{00} & m_{01}\\\\\n",
        "m_{10} & m_{11}\n",
        "\\end{bmatrix},\n",
        "$$"
      ]
    },
    {
      "cell_type": "markdown",
      "metadata": {
        "id": "WWvBUVSeP16D"
      },
      "source": [
        "então:"
      ]
    },
    {
      "cell_type": "markdown",
      "metadata": {
        "id": "gLI4iHESP16E"
      },
      "source": [
        "$$\n",
        "\\begin{bmatrix}F_{n}\\\\ F_{n-1}\\end{bmatrix}\n",
        "=\n",
        "\\mathbf{M}^{n-1} \\begin{bmatrix}1\\\\ 0\\end{bmatrix}\n",
        "=\n",
        "\\begin{bmatrix}\n",
        "m_{00} & m_{01}\\\\\n",
        "m_{10} & m_{11}\n",
        "\\end{bmatrix}\n",
        "\\begin{bmatrix}1\\\\ 0\\end{bmatrix}\n",
        "=\n",
        "\\begin{bmatrix}\n",
        "m_{00}\\\\\n",
        "m_{10}\n",
        "\\end{bmatrix}.\n",
        "$$"
      ]
    },
    {
      "cell_type": "markdown",
      "metadata": {
        "id": "V_ibD7q-P16E"
      },
      "source": [
        "Portanto, $F_n = m_{00}$."
      ]
    },
    {
      "cell_type": "markdown",
      "metadata": {
        "id": "zZPKuHoUP16E"
      },
      "source": [
        "(a) Inicialmente, aplique o que você aprendeu sobre arranjos da numpy para completar a função `matpot` a seguir. Ela deve **retornar** a $k$-ésima potência de uma matriz $\\mathbf{A}$, $n\\times n$. Você deve realizar o produto de matrizes utilizando a função `np.dot`."
      ]
    },
    {
      "cell_type": "code",
      "source": [
        "import numpy as np"
      ],
      "metadata": {
        "id": "FYlxaD6tdwkQ"
      },
      "execution_count": 3,
      "outputs": []
    },
    {
      "cell_type": "code",
      "execution_count": 4,
      "metadata": {
        "id": "MLhgWrkaP16F"
      },
      "outputs": [],
      "source": [
        "def matpot(A,k):\n",
        "    \"\"\"\n",
        "    Calcula a k-ésima potência da matriz A.\n",
        "    \n",
        "       Argumentos:\n",
        "         A (numpy.array): matriz quadrada armazenada usando o `array` da numpy.\n",
        "         k (int): valor da potência desejada, k >= 0.\n",
        "         \n",
        "       Retorno:\n",
        "         (numpy.array): o valor de A^k\n",
        "    \"\"\"\n",
        "    # você deve iniciar a implementação desta função a partir daqui.\n",
        "    assert k>=0\n",
        "\n",
        "    An = A\n",
        "    for i in range(k):\n",
        "      An = np.dot(A, An)\n",
        "    return An\n",
        "    "
      ]
    },
    {
      "cell_type": "markdown",
      "metadata": {
        "id": "WkZ7NTdgP16F"
      },
      "source": [
        "Durante o desenvolvimento, verifique sua implementação da `matpot` tomando\n",
        "\n",
        "$$\n",
        "\\mathbf{A} = \\begin{bmatrix}\n",
        " 2 & -2 & -4 \\\\\n",
        "-1 &  3 &  4 \\\\\n",
        " 1 & -2 & -3\n",
        "\\end{bmatrix}\n",
        "\\qquad\n",
        "e\n",
        "\\qquad\n",
        "k = 30\n",
        "$$\n",
        "\n",
        "na célula abaixo."
      ]
    },
    {
      "cell_type": "code",
      "execution_count": 5,
      "metadata": {
        "id": "dWs1YuDEP16G",
        "colab": {
          "base_uri": "https://localhost:8080/"
        },
        "outputId": "2527b3d0-c5c7-4fa4-852a-34ec7443e0e1"
      },
      "outputs": [
        {
          "output_type": "stream",
          "name": "stdout",
          "text": [
            "[[ 2 -2 -4]\n",
            " [-1  3  4]\n",
            " [ 1 -2 -3]]\n"
          ]
        }
      ],
      "source": [
        "A = np.array([[2,-2,-4],[-1,3,4],[1,-2,-3]])\n",
        "\n",
        "print(matpot(A, k=30))\n",
        "\n",
        "\n"
      ]
    },
    {
      "cell_type": "markdown",
      "metadata": {
        "id": "3hcVACPjP16G"
      },
      "source": [
        "(b) Você observou algo interessante no resultado?"
      ]
    },
    {
      "cell_type": "markdown",
      "metadata": {
        "id": "IfxERW-1P16G"
      },
      "source": [
        "Sim, percebe-se que ao modificar o k arbitráriamente ou defini-lo como k=30 solicitada pela questão esta matriz em específico conserva todos os seus coeficientes da matriz \"original\". Neste caso, $A^{n}=A, \\forall n \\in \\mathbb{R}$."
      ]
    },
    {
      "cell_type": "markdown",
      "metadata": {
        "id": "Smvda6dhP16H"
      },
      "source": [
        "(c) Agora, implemente o algoritmo matricial de Fibonacci utilizando a função `matpot` definida acima.\n",
        "A função `fibmat` deve retornar o valor de $F_n$."
      ]
    },
    {
      "cell_type": "code",
      "execution_count": 55,
      "metadata": {
        "id": "BS_vsKt9P16H"
      },
      "outputs": [],
      "source": [
        "def fibmat(n):\n",
        "    \"\"\"\n",
        "    Algoritmo matricial para o cálculo dos números da sequência de Fibonacci.\n",
        "    \n",
        "    Entrada:\n",
        "         n (int): número inteiro não negativo.\n",
        "         \n",
        "    Saída:\n",
        "         (int): o valor de F_n\n",
        "    \"\"\"\n",
        "    # você deve iniciar a implementação desta função a partir daqui.\n",
        "    assert n >= 0\n",
        "    \n",
        "    if n == 0:\n",
        "        return 0\n",
        "    elif n == 1:\n",
        "        return 1\n",
        "    else:\n",
        "        M = np.array([[1,1],[1,0]])\n",
        "        Mn = M\n",
        "        for i in range(n):\n",
        "          Mn = np.dot(M, Mn)\n",
        "        return Mn[1,1]\n"
      ]
    },
    {
      "cell_type": "markdown",
      "metadata": {
        "id": "8KsgG9b3P16H"
      },
      "source": [
        "Se tudo estiver OK com sua implementação, o resultado da execução da célula abaixo deverá ser `True`."
      ]
    },
    {
      "cell_type": "code",
      "execution_count": 56,
      "metadata": {
        "id": "3NtxPkdDP16H",
        "colab": {
          "base_uri": "https://localhost:8080/"
        },
        "outputId": "48887e97-2809-4241-c918-f390149da731"
      },
      "outputs": [
        {
          "output_type": "stream",
          "name": "stdout",
          "text": [
            "CPU times: user 127 µs, sys: 0 ns, total: 127 µs\n",
            "Wall time: 131 µs\n"
          ]
        },
        {
          "output_type": "execute_result",
          "data": {
            "text/plain": [
              "True"
            ]
          },
          "metadata": {},
          "execution_count": 56
        }
      ],
      "source": [
        "%%time\n",
        "fibmat(32) == 2178309\n"
      ]
    },
    {
      "cell_type": "markdown",
      "metadata": {
        "id": "B3eM4nSaP16I"
      },
      "source": [
        "(d) Você percebeu alguma diferença no tempo total de CPU desse método quando comparado ao método recursivo? Caso positivo, qual deles foi mais rápido? Você teria uma justificativa para isto? Discuta com seus amigos seus resultados."
      ]
    },
    {
      "cell_type": "markdown",
      "metadata": {
        "id": "pzbo4pl0P16I"
      },
      "source": [
        "Sim. O método matricial, assumindo $n=32$ retornou o $F_{n}$ com 131 $\\mu s$ comparado ao método recursivo que retornou $F_{n}$ em um tempo de $1.24 s$.\n",
        "Com o auxílio da biblioteca Numpy e com o uso da função $numpy.dot()=\\sum\\left [ A*B \\right ]$ e usando recursividade juntamente com os critérios matemáticos estabelecidos anteriormente para obter o n-ésimo número de Fibonacci é possível obter $F_{n}$ de maneira mais eficiente que utilizando o método de recursividade tradicional."
      ]
    },
    {
      "cell_type": "markdown",
      "metadata": {
        "id": "LhWV38oTP16J"
      },
      "source": [
        "## Saiba mais"
      ]
    },
    {
      "cell_type": "markdown",
      "metadata": {
        "id": "s5S725RMP16J"
      },
      "source": [
        "- O problema de Fibonacci abordado no final da aula foi inspirado nas Miniaturas 1 e 2 do livro do professor Jiří Matoušek,  [Thirty-three Miniatures: Mathematical and Algorithmic Appplications of Linear Algebra](https://kam.mff.cuni.cz/~matousek/stml-53-matousek-1.pdf), *Student Mathematical Library*, v. 53, AMS, 2010.\n"
      ]
    },
    {
      "cell_type": "markdown",
      "metadata": {
        "id": "X0engJCKP16K"
      },
      "source": [
        "* Ficou curioso e deseja conhecer outros algoritmos para o cálculo dos números de Fibonacci? Dê uma olhada no artigo: \n",
        "DASDAN, Ali. [Twelve Simple Algorithms to Compute Fibonacci Numbers](https://arxiv.org/abs/1803.07199). *arXiv preprint: 1803.07199*, 2018."
      ]
    },
    {
      "cell_type": "markdown",
      "metadata": {
        "id": "C3fvfh9mP16K"
      },
      "source": [
        "&copy; 2021 Vicente Helano  \n",
        "UFCA | Centro de Ciências e Tecnologia"
      ]
    }
  ],
  "metadata": {
    "celltoolbar": "Slideshow",
    "kernelspec": {
      "display_name": "Python 3",
      "language": "python",
      "name": "python3"
    },
    "language_info": {
      "codemirror_mode": {
        "name": "ipython",
        "version": 3
      },
      "file_extension": ".py",
      "mimetype": "text/x-python",
      "name": "python",
      "nbconvert_exporter": "python",
      "pygments_lexer": "ipython3",
      "version": "3.7.3"
    },
    "colab": {
      "name": "Cópia de Pratica1.ipynb",
      "provenance": [],
      "collapsed_sections": []
    }
  },
  "nbformat": 4,
  "nbformat_minor": 0
}